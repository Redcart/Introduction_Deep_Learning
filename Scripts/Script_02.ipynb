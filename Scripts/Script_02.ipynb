{
 "cells": [
  {
   "cell_type": "markdown",
   "metadata": {},
   "source": [
    "# Deep Learning with Keras: Fashion MNIST dataset"
   ]
  },
  {
   "cell_type": "code",
   "execution_count": 4,
   "metadata": {},
   "outputs": [],
   "source": [
    "from keras.datasets import fashion_mnist\n",
    "\n",
    "(x_train, y_train), (x_test, y_test) = fashion_mnist.load_data()"
   ]
  },
  {
   "cell_type": "code",
   "execution_count": 2,
   "metadata": {},
   "outputs": [],
   "source": [
    "from keras.utils import to_categorical\n",
    "y_train = to_categorical(y_train)\n",
    "#y_test = to_categorical(y_test)"
   ]
  },
  {
   "cell_type": "code",
   "execution_count": 5,
   "metadata": {},
   "outputs": [
    {
     "name": "stdout",
     "output_type": "stream",
     "text": [
      "(60000, 28, 28)\n",
      "(10000, 28, 28)\n",
      "(60000,)\n",
      "(10000,)\n"
     ]
    }
   ],
   "source": [
    "print(x_train.shape)\n",
    "print(x_test.shape)\n",
    "print(y_train.shape)\n",
    "print(y_test.shape)"
   ]
  },
  {
   "cell_type": "markdown",
   "metadata": {},
   "source": [
    "We have a data set composed by 70 000 images of clothes from Zalando:\n",
    "- 60 000 images in the training set\n",
    "- 10 000 images in the testing set"
   ]
  },
  {
   "cell_type": "markdown",
   "metadata": {},
   "source": [
    "Each image is formed by 28x28=784 pixels encoded in greyscale (0-255). starting from zero (white), the higher the number, the darker is the pixel."
   ]
  },
  {
   "cell_type": "markdown",
   "metadata": {},
   "source": [
    "Pictures are dirtibuted across 10 different classes:\n",
    "- 0 T-shirt/top\n",
    "- 1 Trouser\n",
    "- 2 Pullover\n",
    "- 3 Dress\n",
    "- 4 Coat\n",
    "- 5 Sandal\n",
    "- 6 Shirt\n",
    "- 7 Sneaker\n",
    "- 8 Bag\n",
    "- 9 Ankle boot "
   ]
  },
  {
   "cell_type": "code",
   "execution_count": 6,
   "metadata": {},
   "outputs": [
    {
     "name": "stdout",
     "output_type": "stream",
     "text": [
      "<class 'numpy.ndarray'>\n"
     ]
    }
   ],
   "source": [
    "print(type(x_train))"
   ]
  },
  {
   "cell_type": "code",
   "execution_count": 7,
   "metadata": {},
   "outputs": [
    {
     "name": "stdout",
     "output_type": "stream",
     "text": [
      "[[  0   0   0   0   0   1   0   0   0   0  41 188 103  54  48  43  87 168\n",
      "  133  16   0   0   0   0   0   0   0   0]\n",
      " [  0   0   0   1   0   0   0  49 136 219 216 228 236 255 255 255 255 217\n",
      "  215 254 231 160  45   0   0   0   0   0]\n",
      " [  0   0   0   0   0  14 176 222 224 212 203 198 196 200 215 204 202 201\n",
      "  201 201 209 218 224 164   0   0   0   0]\n",
      " [  0   0   0   0   0 188 219 200 198 202 198 199 199 201 196 198 198 200\n",
      "  200 200 200 201 200 225  41   0   0   0]\n",
      " [  0   0   0   0  51 219 199 203 203 212 238 248 250 245 249 246 247 252\n",
      "  248 235 207 203 203 222 140   0   0   0]\n",
      " [  0   0   0   0 116 226 206 204 207 204 101  75  47  73  48  50  45  51\n",
      "   63 113 222 202 206 220 224   0   0   0]\n",
      " [  0   0   0   0 200 222 209 203 215 200   0  70  98   0 103  59  68  71\n",
      "   49   0 219 206 214 210 250  38   0   0]\n",
      " [  0   0   0   0 247 218 212 210 215 214   0 254 243 139 255 174 251 255\n",
      "  205   0 215 217 214 208 220  95   0   0]\n",
      " [  0   0   0  45 226 214 214 215 224 205   0  42  35  60  16  17  12  13\n",
      "   70   0 189 216 212 206 212 156   0   0]\n",
      " [  0   0   0 164 235 214 211 220 216 201  52  71  89  94  83  78  70  76\n",
      "   92  87 206 207 222 213 219 208   0   0]\n",
      " [  0   0   0 106 187 223 237 248 211 198 252 250 248 245 248 252 253 250\n",
      "  252 239 201 212 225 215 193 113   0   0]\n",
      " [  0   0   0   0   0  17  54 159 222 193 208 192 197 200 200 200 200 201\n",
      "  203 195 210 165   0   0   0   0   0   0]\n",
      " [  0   0   0   0   0   0   0  47 225 192 214 203 206 204 204 205 206 204\n",
      "  212 197 218 107   0   0   0   0   0   0]\n",
      " [  0   0   0   0   1   6   0  46 212 195 212 202 206 205 204 205 206 204\n",
      "  212 200 218  91   0   3   1   0   0   0]\n",
      " [  0   0   0   0   0   1   0  11 197 199 205 202 205 206 204 205 207 204\n",
      "  205 205 218  77   0   5   0   0   0   0]\n",
      " [  0   0   0   0   0   3   0   2 191 198 201 205 206 205 205 206 209 206\n",
      "  199 209 219  74   0   5   0   0   0   0]\n",
      " [  0   0   0   0   0   2   0   0 188 197 200 207 207 204 207 207 210 208\n",
      "  198 207 221  72   0   4   0   0   0   0]\n",
      " [  0   0   0   0   0   2   0   0 215 198 203 206 208 205 207 207 210 208\n",
      "  200 202 222  75   0   4   0   0   0   0]\n",
      " [  0   0   0   0   0   1   0   0 212 198 209 206 209 206 208 207 211 206\n",
      "  205 198 221  80   0   3   0   0   0   0]\n",
      " [  0   0   0   0   0   1   0   0 204 201 205 208 207 205 211 205 210 210\n",
      "  209 195 221  96   0   3   0   0   0   0]\n",
      " [  0   0   0   0   0   1   0   0 202 201 205 209 207 205 213 206 210 209\n",
      "  210 194 217 105   0   2   0   0   0   0]\n",
      " [  0   0   0   0   0   1   0   0 204 204 205 208 207 205 215 207 210 208\n",
      "  211 193 213 115   0   2   0   0   0   0]\n",
      " [  0   0   0   0   0   0   0   0 204 207 207 208 206 206 215 210 210 207\n",
      "  212 195 210 118   0   2   0   0   0   0]\n",
      " [  0   0   0   0   0   1   0   0 198 208 208 208 204 207 212 212 210 207\n",
      "  211 196 207 121   0   1   0   0   0   0]\n",
      " [  0   0   0   0   0   1   0   0 198 210 207 208 206 209 213 212 211 207\n",
      "  210 197 207 124   0   1   0   0   0   0]\n",
      " [  0   0   0   0   0   0   0   0 172 210 203 201 199 204 207 205 204 201\n",
      "  205 197 206 127   0   0   0   0   0   0]\n",
      " [  0   0   0   0   0   0   0   0 188 221 214 234 236 238 244 244 244 240\n",
      "  243 214 224 162   0   2   0   0   0   0]\n",
      " [  0   0   0   0   0   1   0   0 139 146 130 135 135 137 125 124 125 121\n",
      "  119 114 130  76   0   0   0   0   0   0]]\n"
     ]
    }
   ],
   "source": [
    "print(x_train[1, :, :])"
   ]
  },
  {
   "cell_type": "code",
   "execution_count": 8,
   "metadata": {},
   "outputs": [
    {
     "data": {
      "text/plain": [
       "<Figure size 640x480 with 1 Axes>"
      ]
     },
     "metadata": {},
     "output_type": "display_data"
    }
   ],
   "source": [
    "import matplotlib.pyplot as plt\n",
    "plt.imshow(x_train[1000], cmap=plt.cm.gray_r)\n",
    "plt.show()"
   ]
  },
  {
   "cell_type": "markdown",
   "metadata": {},
   "source": [
    "On voit ici l'image d'un pantalon."
   ]
  },
  {
   "cell_type": "code",
   "execution_count": 9,
   "metadata": {},
   "outputs": [
    {
     "name": "stdout",
     "output_type": "stream",
     "text": [
      "1\n"
     ]
    }
   ],
   "source": [
    "print(y_train[1000])"
   ]
  },
  {
   "cell_type": "code",
   "execution_count": 10,
   "metadata": {},
   "outputs": [
    {
     "data": {
      "image/png": "[encoded data removed]",
      "text/plain": [
       "<Figure size 432x288 with 1 Axes>"
      ]
     },
     "metadata": {},
     "output_type": "display_data"
    }
   ],
   "source": [
    "import numpy as np\n",
    "\n",
    "plt.bar(np.unique(y_train), np.bincount(y_train))\n",
    "plt.show()"
   ]
  },
  {
   "cell_type": "code",
   "execution_count": 11,
   "metadata": {},
   "outputs": [
    {
     "data": {
      "text/plain": [
       "array([6000, 6000, 6000, 6000, 6000, 6000, 6000, 6000, 6000, 6000],\n",
       "      dtype=int64)"
      ]
     },
     "execution_count": 11,
     "metadata": {},
     "output_type": "execute_result"
    }
   ],
   "source": [
    "np.bincount(y_train)"
   ]
  },
  {
   "cell_type": "markdown",
   "metadata": {},
   "source": [
    "Each cloth appears 6 000 in the training set."
   ]
  },
  {
   "cell_type": "markdown",
   "metadata": {},
   "source": [
    "### Feature scaling"
   ]
  },
  {
   "cell_type": "code",
   "execution_count": 14,
   "metadata": {},
   "outputs": [],
   "source": [
    "x_train_scaled = x_train / 255\n",
    "x_test_scaled = x_test / 255"
   ]
  },
  {
   "cell_type": "code",
   "execution_count": 15,
   "metadata": {},
   "outputs": [],
   "source": [
    "x_train_scaled_reshape = x_train_scaled.reshape((60000, 28, 28, 1))\n",
    "x_test_scaled_reshape = x_test_scaled.reshape((10000, 28, 28, 1))"
   ]
  },
  {
   "cell_type": "markdown",
   "metadata": {},
   "source": [
    "# Convolutional Neural Network (CNN)"
   ]
  },
  {
   "cell_type": "markdown",
   "metadata": {},
   "source": [
    "### a) Import of libraries "
   ]
  },
  {
   "cell_type": "code",
   "execution_count": 16,
   "metadata": {},
   "outputs": [],
   "source": [
    "from keras.layers import Flatten, Dense, Conv2D, MaxPooling2D\n",
    "from keras.activations import relu, sigmoid, softmax\n",
    "from keras.models import Sequential\n",
    "from keras.optimizers import SGD, Adam\n",
    "from keras.initializers import glorot_uniform\n",
    "import numpy as np"
   ]
  },
  {
   "cell_type": "markdown",
   "metadata": {},
   "source": [
    "### b) Construction of the model"
   ]
  },
  {
   "cell_type": "code",
   "execution_count": 18,
   "metadata": {},
   "outputs": [],
   "source": [
    "from keras.activations import relu, softmax\n",
    "from keras.layers import Dense, Flatten, Conv2D, MaxPooling2D, Dropout\n",
    "from keras.models import Sequential\n",
    "\n",
    "nb_classes=len(np.unique(y_train))\n",
    "nb_height=x_train_scaled_reshape.shape[1]\n",
    "nb_width=x_train_scaled_reshape.shape[2]\n",
    "nb_channels=x_train_scaled_reshape.shape[3]\n",
    "\n",
    "cnn_clothes=Sequential()\n",
    "\n",
    "cnn_clothes.add(Conv2D(filters=32, kernel_size=(3,3), activation=relu, input_shape=(nb_height, nb_width, nb_channels)))\n",
    "cnn_clothes.add(MaxPooling2D(pool_size=(2,2)))\n",
    "cnn_clothes.add(Dropout(rate=0.4))\n",
    "\n",
    "cnn_clothes.add(Conv2D(filters=64, kernel_size=(3,3), activation=relu))\n",
    "cnn_clothes.add(MaxPooling2D(pool_size=(2,2)))\n",
    "cnn_clothes.add(Dropout(rate=0.4))\n",
    "\n",
    "cnn_clothes.add(Conv2D(filters=128, kernel_size=(2,2), activation=relu))\n",
    "cnn_clothes.add(Conv2D(filters=128, kernel_size=(2,2), activation=relu))\n",
    "\n",
    "cnn_clothes.add(Flatten())\n",
    "cnn_clothes.add(Dropout(rate=0.4))\n",
    "\n",
    "cnn_clothes.add(Dense(units=nb_classes, activation=softmax))"
   ]
  },
  {
   "cell_type": "code",
   "execution_count": 19,
   "metadata": {},
   "outputs": [
    {
     "name": "stdout",
     "output_type": "stream",
     "text": [
      "_________________________________________________________________\n",
      "Layer (type)                 Output Shape              Param #   \n",
      "=================================================================\n",
      "conv2d_1 (Conv2D)            (None, 26, 26, 32)        320       \n",
      "_________________________________________________________________\n",
      "max_pooling2d_1 (MaxPooling2 (None, 13, 13, 32)        0         \n",
      "_________________________________________________________________\n",
      "dropout_1 (Dropout)          (None, 13, 13, 32)        0         \n",
      "_________________________________________________________________\n",
      "conv2d_2 (Conv2D)            (None, 11, 11, 64)        18496     \n",
      "_________________________________________________________________\n",
      "max_pooling2d_2 (MaxPooling2 (None, 5, 5, 64)          0         \n",
      "_________________________________________________________________\n",
      "dropout_2 (Dropout)          (None, 5, 5, 64)          0         \n",
      "_________________________________________________________________\n",
      "conv2d_3 (Conv2D)            (None, 4, 4, 128)         32896     \n",
      "_________________________________________________________________\n",
      "conv2d_4 (Conv2D)            (None, 3, 3, 128)         65664     \n",
      "_________________________________________________________________\n",
      "flatten_1 (Flatten)          (None, 1152)              0         \n",
      "_________________________________________________________________\n",
      "dropout_3 (Dropout)          (None, 1152)              0         \n",
      "_________________________________________________________________\n",
      "dense_1 (Dense)              (None, 10)                11530     \n",
      "=================================================================\n",
      "Total params: 128,906\n",
      "Trainable params: 128,906\n",
      "Non-trainable params: 0\n",
      "_________________________________________________________________\n"
     ]
    }
   ],
   "source": [
    "cnn_clothes.summary()"
   ]
  },
  {
   "cell_type": "markdown",
   "metadata": {},
   "source": [
    "### c) Compilation of the model "
   ]
  },
  {
   "cell_type": "code",
   "execution_count": 20,
   "metadata": {},
   "outputs": [],
   "source": [
    "cnn_clothes.compile(optimizer='adam', \n",
    "                    loss='sparse_categorical_crossentropy', \n",
    "                    metrics=['accuracy'])"
   ]
  },
  {
   "cell_type": "markdown",
   "metadata": {},
   "source": [
    "### d) Fitting of the model"
   ]
  },
  {
   "cell_type": "code",
   "execution_count": 21,
   "metadata": {},
   "outputs": [
    {
     "name": "stdout",
     "output_type": "stream",
     "text": [
      "Epoch 1/20\n",
      "60000/60000 [==============================] - 71s 1ms/step - loss: 1.0172 - acc: 0.6187\n",
      "Epoch 2/20\n",
      "60000/60000 [==============================] - 69s 1ms/step - loss: 0.6009 - acc: 0.7714\n",
      "Epoch 3/20\n",
      "60000/60000 [==============================] - 69s 1ms/step - loss: 0.5249 - acc: 0.8026\n",
      "Epoch 4/20\n",
      "60000/60000 [==============================] - 69s 1ms/step - loss: 0.4696 - acc: 0.8250\n",
      "Epoch 5/20\n",
      "60000/60000 [==============================] - 68s 1ms/step - loss: 0.4399 - acc: 0.8391\n",
      "Epoch 6/20\n",
      "60000/60000 [==============================] - 69s 1ms/step - loss: 0.4125 - acc: 0.8483\n",
      "Epoch 7/20\n",
      "60000/60000 [==============================] - 69s 1ms/step - loss: 0.3885 - acc: 0.8567\n",
      "Epoch 8/20\n",
      "60000/60000 [==============================] - 68s 1ms/step - loss: 0.3732 - acc: 0.8650\n",
      "Epoch 9/20\n",
      "60000/60000 [==============================] - 68s 1ms/step - loss: 0.3583 - acc: 0.8699\n",
      "Epoch 10/20\n",
      "60000/60000 [==============================] - 71s 1ms/step - loss: 0.3504 - acc: 0.8719\n",
      "Epoch 11/20\n",
      "60000/60000 [==============================] - 70s 1ms/step - loss: 0.3405 - acc: 0.8744\n",
      "Epoch 12/20\n",
      "60000/60000 [==============================] - 69s 1ms/step - loss: 0.3307 - acc: 0.8787\n",
      "Epoch 13/20\n",
      "60000/60000 [==============================] - 69s 1ms/step - loss: 0.3235 - acc: 0.8823\n",
      "Epoch 14/20\n",
      "60000/60000 [==============================] - 73s 1ms/step - loss: 0.3169 - acc: 0.8831\n",
      "Epoch 15/20\n",
      "60000/60000 [==============================] - 72s 1ms/step - loss: 0.3133 - acc: 0.8835\n",
      "Epoch 16/20\n",
      "60000/60000 [==============================] - 72s 1ms/step - loss: 0.3064 - acc: 0.8876\n",
      "Epoch 17/20\n",
      "60000/60000 [==============================] - 71s 1ms/step - loss: 0.3039 - acc: 0.8888\n",
      "Epoch 18/20\n",
      "60000/60000 [==============================] - 74s 1ms/step - loss: 0.3018 - acc: 0.8895\n",
      "Epoch 19/20\n",
      "60000/60000 [==============================] - 77s 1ms/step - loss: 0.2911 - acc: 0.8921\n",
      "Epoch 20/20\n",
      "60000/60000 [==============================] - 73s 1ms/step - loss: 0.2895 - acc: 0.8945\n"
     ]
    },
    {
     "data": {
      "text/plain": [
       "<keras.callbacks.History at 0x28896aa5978>"
      ]
     },
     "execution_count": 21,
     "metadata": {},
     "output_type": "execute_result"
    }
   ],
   "source": [
    "cnn_clothes.fit(x_train_scaled_reshape, y_train,  batch_size=512, epochs=20)"
   ]
  },
  {
   "cell_type": "markdown",
   "metadata": {},
   "source": [
    "### e) Predictions on the test set"
   ]
  },
  {
   "cell_type": "code",
   "execution_count": 22,
   "metadata": {},
   "outputs": [],
   "source": [
    "predictions_cnn = cnn_clothes.predict_classes(x_test_scaled_reshape)"
   ]
  },
  {
   "cell_type": "markdown",
   "metadata": {},
   "source": [
    "## Predictive Performance"
   ]
  },
  {
   "cell_type": "code",
   "execution_count": 23,
   "metadata": {},
   "outputs": [
    {
     "name": "stdout",
     "output_type": "stream",
     "text": [
      "0.9002\n"
     ]
    }
   ],
   "source": [
    "from sklearn.metrics import accuracy_score\n",
    "\n",
    "metric_cnn = accuracy_score(y_test, predictions_cnn)\n",
    "print(metric_cnn)"
   ]
  },
  {
   "cell_type": "markdown",
   "metadata": {},
   "source": [
    "## Model saving"
   ]
  },
  {
   "cell_type": "markdown",
   "metadata": {},
   "source": [
    "### We save the model structure in the yaml format (layers, activation functions, dimensions, ...)"
   ]
  },
  {
   "cell_type": "code",
   "execution_count": 24,
   "metadata": {},
   "outputs": [],
   "source": [
    "from keras.models import model_from_yaml\n",
    "\n",
    "### On sauve la strcture du modèle (couches, fonctions d'activations, dimensions, ...)\n",
    "model_yaml = cnn_clothes.to_yaml()\n",
    "with open(\"cnn_clothes.yaml\", \"w\") as yaml_file:\n",
    "    yaml_file.write(model_yaml)"
   ]
  },
  {
   "cell_type": "markdown",
   "metadata": {},
   "source": [
    "### We save the set of weights of the model in the h5 format"
   ]
  },
  {
   "cell_type": "code",
   "execution_count": 25,
   "metadata": {},
   "outputs": [
    {
     "name": "stdout",
     "output_type": "stream",
     "text": [
      "Saved model to disk\n"
     ]
    }
   ],
   "source": [
    "### We save the 84 600 weights\n",
    "cnn_clothes.save_weights(\"cnn_clothes.h5\")\n",
    "print(\"Saved model to disk\")"
   ]
  },
  {
   "cell_type": "markdown",
   "metadata": {},
   "source": [
    "## Loading of the model"
   ]
  },
  {
   "cell_type": "code",
   "execution_count": 26,
   "metadata": {},
   "outputs": [
    {
     "name": "stdout",
     "output_type": "stream",
     "text": [
      "Loaded model from disk\n"
     ]
    }
   ],
   "source": [
    "yaml_file = open('cnn_clothes.yaml', 'r')\n",
    "loaded_model_yaml = yaml_file.read()\n",
    "yaml_file.close()\n",
    "loaded_model = model_from_yaml(loaded_model_yaml)\n",
    "# load weights into new model\n",
    "loaded_model.load_weights(\"cnn_clothes.h5\")\n",
    "print(\"Loaded model from disk\")"
   ]
  },
  {
   "cell_type": "code",
   "execution_count": 27,
   "metadata": {},
   "outputs": [
    {
     "data": {
      "text/plain": [
       "[<tf.Variable 'conv2d_1_1/kernel:0' shape=(3, 3, 1, 32) dtype=float32_ref>,\n",
       " <tf.Variable 'conv2d_1_1/bias:0' shape=(32,) dtype=float32_ref>,\n",
       " <tf.Variable 'conv2d_2_1/kernel:0' shape=(3, 3, 32, 64) dtype=float32_ref>,\n",
       " <tf.Variable 'conv2d_2_1/bias:0' shape=(64,) dtype=float32_ref>,\n",
       " <tf.Variable 'conv2d_3_1/kernel:0' shape=(2, 2, 64, 128) dtype=float32_ref>,\n",
       " <tf.Variable 'conv2d_3_1/bias:0' shape=(128,) dtype=float32_ref>,\n",
       " <tf.Variable 'conv2d_4_1/kernel:0' shape=(2, 2, 128, 128) dtype=float32_ref>,\n",
       " <tf.Variable 'conv2d_4_1/bias:0' shape=(128,) dtype=float32_ref>,\n",
       " <tf.Variable 'dense_1_1/kernel:0' shape=(1152, 10) dtype=float32_ref>,\n",
       " <tf.Variable 'dense_1_1/bias:0' shape=(10,) dtype=float32_ref>]"
      ]
     },
     "execution_count": 27,
     "metadata": {},
     "output_type": "execute_result"
    }
   ],
   "source": [
    "loaded_model.weights"
   ]
  },
  {
   "cell_type": "code",
   "execution_count": 28,
   "metadata": {},
   "outputs": [
    {
     "name": "stdout",
     "output_type": "stream",
     "text": [
      "_________________________________________________________________\n",
      "Layer (type)                 Output Shape              Param #   \n",
      "=================================================================\n",
      "conv2d_1 (Conv2D)            (None, 26, 26, 32)        320       \n",
      "_________________________________________________________________\n",
      "max_pooling2d_1 (MaxPooling2 (None, 13, 13, 32)        0         \n",
      "_________________________________________________________________\n",
      "dropout_1 (Dropout)          (None, 13, 13, 32)        0         \n",
      "_________________________________________________________________\n",
      "conv2d_2 (Conv2D)            (None, 11, 11, 64)        18496     \n",
      "_________________________________________________________________\n",
      "max_pooling2d_2 (MaxPooling2 (None, 5, 5, 64)          0         \n",
      "_________________________________________________________________\n",
      "dropout_2 (Dropout)          (None, 5, 5, 64)          0         \n",
      "_________________________________________________________________\n",
      "conv2d_3 (Conv2D)            (None, 4, 4, 128)         32896     \n",
      "_________________________________________________________________\n",
      "conv2d_4 (Conv2D)            (None, 3, 3, 128)         65664     \n",
      "_________________________________________________________________\n",
      "flatten_1 (Flatten)          (None, 1152)              0         \n",
      "_________________________________________________________________\n",
      "dropout_3 (Dropout)          (None, 1152)              0         \n",
      "_________________________________________________________________\n",
      "dense_1 (Dense)              (None, 10)                11530     \n",
      "=================================================================\n",
      "Total params: 128,906\n",
      "Trainable params: 128,906\n",
      "Non-trainable params: 0\n",
      "_________________________________________________________________\n"
     ]
    }
   ],
   "source": [
    "loaded_model.summary()"
   ]
  },
  {
   "cell_type": "code",
   "execution_count": 30,
   "metadata": {},
   "outputs": [
    {
     "name": "stdout",
     "output_type": "stream",
     "text": [
      "{'name': 'conv2d_1', 'trainable': True, 'batch_input_shape': (None, 28, 28, 1), 'dtype': 'float32', 'filters': 32, 'kernel_size': (3, 3), 'strides': (1, 1), 'padding': 'valid', 'data_format': 'channels_last', 'dilation_rate': (1, 1), 'activation': 'relu', 'use_bias': True, 'kernel_initializer': {'class_name': 'VarianceScaling', 'config': {'scale': 1.0, 'mode': 'fan_avg', 'distribution': 'uniform', 'seed': None}}, 'bias_initializer': {'class_name': 'Zeros', 'config': {}}, 'kernel_regularizer': None, 'bias_regularizer': None, 'activity_regularizer': None, 'kernel_constraint': None, 'bias_constraint': None}\n",
      "[array([[[[-1.43251672e-01,  2.71622203e-02, -1.78208917e-01,\n",
      "          -1.69303000e-01,  3.85454632e-02, -7.49447227e-01,\n",
      "          -1.94340460e-02,  4.48700450e-02, -5.46016097e-02,\n",
      "          -2.19114289e-01, -1.63349152e-01,  4.73828129e-02,\n",
      "          -1.56528175e-01, -7.87183195e-02,  4.36300077e-02,\n",
      "           2.42766049e-02, -1.99348956e-01, -7.98882991e-02,\n",
      "          -4.12349291e-02, -1.73637286e-01,  8.94298330e-02,\n",
      "           7.35300779e-02, -7.49762878e-02, -3.73342820e-02,\n",
      "          -1.13188840e-01, -7.48419702e-01,  1.32251412e-01,\n",
      "           1.81099758e-01,  7.89965466e-02, -5.90650856e-01,\n",
      "           2.02461526e-01,  3.86971384e-02]],\n",
      "\n",
      "        [[-1.28769338e-01,  1.44637942e-01, -6.19018264e-02,\n",
      "           1.56142056e-01,  1.61322460e-01, -7.84540832e-01,\n",
      "          -1.32354751e-01,  1.60603859e-02, -3.13923182e-03,\n",
      "           6.62317872e-02, -1.09094799e-01, -7.41479313e-03,\n",
      "           5.20163588e-02,  8.17561373e-02,  1.10628411e-01,\n",
      "          -1.52991146e-01,  1.37019098e-01, -3.83700952e-02,\n",
      "           1.51932910e-02, -6.00947626e-02, -2.24781245e-01,\n",
      "           7.68031999e-02, -5.85157335e-01, -2.63097435e-01,\n",
      "           1.21041715e-01, -8.91416013e-01, -1.71457246e-01,\n",
      "          -2.65865088e-01, -7.01344758e-02, -5.87176204e-01,\n",
      "           7.77859148e-03,  8.38164613e-02]],\n",
      "\n",
      "        [[ 1.80826321e-01,  1.43912479e-01, -6.34142011e-02,\n",
      "           2.21242756e-02, -1.93854183e-01, -6.07673600e-02,\n",
      "          -1.56883031e-01,  2.12013826e-01,  6.34672344e-02,\n",
      "           1.48345456e-01,  1.36607438e-01, -9.66480300e-02,\n",
      "           1.26606956e-01,  1.95162445e-01,  2.38783341e-02,\n",
      "           1.54261768e-01,  1.12553589e-01,  1.34167343e-01,\n",
      "          -9.83417332e-02,  9.05324370e-02,  1.70603693e-01,\n",
      "          -6.66202530e-02, -6.86578155e-01, -9.25516859e-02,\n",
      "          -1.87432364e-01, -9.93042812e-02,  1.02280527e-01,\n",
      "           1.46126717e-01,  4.43714224e-02, -7.46838152e-01,\n",
      "          -2.03165025e-01, -2.54183486e-02]]],\n",
      "\n",
      "\n",
      "       [[[-9.03633386e-02,  2.50443406e-02, -5.18253967e-02,\n",
      "          -1.29522592e-01,  5.82028478e-02, -1.59932211e-01,\n",
      "           2.28705388e-02, -1.00865606e-02, -6.89066947e-02,\n",
      "          -5.58181927e-02,  1.28800452e-01, -1.90437078e-01,\n",
      "          -2.03489348e-01,  7.22053275e-02, -3.71070355e-02,\n",
      "           1.15006352e-02, -9.96818766e-02, -1.91970885e-01,\n",
      "           1.90477469e-03, -1.90863520e-01, -1.10740945e-01,\n",
      "           1.48825496e-01,  1.38306037e-01,  4.09056172e-02,\n",
      "          -1.05428298e-05, -2.31199473e-01,  2.89464928e-02,\n",
      "           2.57605035e-02,  8.82677063e-02, -3.09915006e-01,\n",
      "           1.85738921e-01,  3.03218793e-02]],\n",
      "\n",
      "        [[ 3.08236144e-02,  3.93177457e-02,  6.35503531e-02,\n",
      "           2.36881927e-01,  1.33675933e-01, -3.06769878e-01,\n",
      "          -4.26780805e-02, -9.88003425e-03, -1.60782918e-01,\n",
      "           3.00624538e-02, -1.11956187e-01, -7.71546364e-02,\n",
      "           1.82445407e-01,  6.27456382e-02, -6.90139458e-02,\n",
      "          -1.52205348e-01,  7.57951364e-02,  2.72098500e-02,\n",
      "           3.62633914e-02,  1.32862762e-01, -4.65304516e-02,\n",
      "          -6.21687435e-03, -7.54465163e-02,  3.79520957e-03,\n",
      "           1.43321797e-01, -7.06235111e-01, -6.89310953e-02,\n",
      "          -1.51997283e-01,  7.41190463e-02, -6.31105483e-01,\n",
      "          -9.15507972e-02, -1.53331377e-04]],\n",
      "\n",
      "        [[ 1.15470737e-01,  5.18356077e-02,  1.18431993e-01,\n",
      "          -1.06732056e-01, -1.87602714e-01,  1.36741579e-01,\n",
      "           1.01637570e-02,  1.06529251e-01,  2.17792496e-01,\n",
      "           4.24496047e-02,  1.09561987e-01, -1.21528238e-01,\n",
      "           4.01988346e-03, -1.28072783e-01,  1.15213469e-02,\n",
      "           1.39385507e-01,  3.03931013e-02,  1.84579015e-01,\n",
      "           9.58053023e-02,  1.00857101e-01,  1.44734144e-01,\n",
      "          -1.83099270e-01, -4.52755988e-02,  4.72613163e-02,\n",
      "           1.52935879e-02, -7.04369694e-02,  1.47961695e-02,\n",
      "          -1.19862564e-01, -1.02581441e-01, -4.48090404e-01,\n",
      "          -2.79126056e-02, -8.41643810e-02]]],\n",
      "\n",
      "\n",
      "       [[[ 2.29023434e-02, -3.57418023e-02,  1.41047999e-01,\n",
      "          -1.62950382e-01,  3.49504761e-02,  1.66694731e-01,\n",
      "           5.41652367e-03, -1.28783748e-01,  5.88465296e-02,\n",
      "          -1.12172015e-01,  9.17105526e-02,  1.24185532e-01,\n",
      "          -1.75156415e-01,  1.15795992e-01,  2.25147791e-02,\n",
      "          -8.73115286e-02, -1.54524237e-01, -7.21353889e-02,\n",
      "          -2.03910396e-01, -9.84658226e-02,  2.27128137e-02,\n",
      "           1.42130196e-01,  1.25402689e-01,  3.16950958e-03,\n",
      "           1.24676906e-01,  2.76616141e-02, -6.60560131e-02,\n",
      "           1.23628318e-01, -3.37032601e-02,  1.53869495e-01,\n",
      "          -1.82664581e-02,  4.57809530e-02]],\n",
      "\n",
      "        [[ 4.29611616e-02, -1.77970737e-01,  1.44307077e-01,\n",
      "           1.79674014e-01,  1.04335807e-01, -4.80905361e-02,\n",
      "           1.39213070e-01, -6.44679368e-01, -2.02523544e-01,\n",
      "           9.39311683e-02,  8.40892084e-03,  1.08710065e-01,\n",
      "           9.47886780e-02, -8.81532803e-02, -5.40719973e-03,\n",
      "          -1.83522981e-03,  1.33460343e-01, -4.77526709e-02,\n",
      "           1.28257230e-01,  1.07656121e-01, -1.73859671e-01,\n",
      "           2.44142413e-02,  7.59101808e-02,  2.17766285e-01,\n",
      "           1.03370011e-01, -1.24857295e-04, -1.36330187e-01,\n",
      "           5.68492860e-02, -3.44211273e-02, -4.12260741e-02,\n",
      "           1.48069263e-01,  1.17939986e-01]],\n",
      "\n",
      "        [[-1.75117310e-02, -2.53791392e-01, -8.03541318e-02,\n",
      "          -1.20923491e-02, -1.42732829e-01,  1.16650321e-01,\n",
      "           1.68621093e-01, -3.23000342e-01,  1.59223959e-01,\n",
      "           7.07229832e-03,  7.17299350e-04,  2.03708857e-01,\n",
      "           8.39963853e-02, -2.39851296e-01,  4.12860606e-03,\n",
      "           7.03366846e-02, -2.62550637e-02,  8.87700692e-02,\n",
      "           1.04654267e-01,  6.37554675e-02,  1.33706167e-01,\n",
      "          -1.75077483e-01, -8.93793702e-02,  7.36855865e-02,\n",
      "          -2.10357815e-01,  9.87779647e-02,  1.55188456e-01,\n",
      "          -4.18425649e-02,  1.24708027e-01, -5.63438190e-03,\n",
      "          -1.73549682e-01, -1.45962358e-01]]]], dtype=float32), array([-1.69082005e-02, -1.33708876e-03, -8.24306626e-03, -1.27583416e-03,\n",
      "       -5.18958736e-03,  7.01853409e-02, -3.18509922e-03,  6.99586198e-02,\n",
      "       -1.46370294e-04, -1.13602437e-05, -6.15767315e-02, -4.49579535e-03,\n",
      "       -1.02701818e-03, -4.86649951e-04, -2.02714540e-02, -3.19433468e-03,\n",
      "        6.21071376e-05, -1.53653999e-03, -1.61739823e-03,  3.30306240e-04,\n",
      "       -5.47899678e-03, -2.95493510e-02,  5.52565902e-02, -4.86846641e-03,\n",
      "       -1.05191860e-03,  1.09117202e-01, -2.56908569e-03,  7.41951866e-03,\n",
      "       -8.68903100e-02,  1.10246785e-01, -2.60183495e-02,  3.11405468e-03],\n",
      "      dtype=float32)]\n",
      "{'name': 'max_pooling2d_1', 'trainable': True, 'pool_size': (2, 2), 'padding': 'valid', 'strides': (2, 2), 'data_format': 'channels_last'}\n",
      "[]\n",
      "{'name': 'dropout_1', 'trainable': True, 'rate': 0.4, 'noise_shape': None, 'seed': None}\n",
      "[]\n",
      "{'name': 'conv2d_2', 'trainable': True, 'filters': 64, 'kernel_size': (3, 3), 'strides': (1, 1), 'padding': 'valid', 'data_format': 'channels_last', 'dilation_rate': (1, 1), 'activation': 'relu', 'use_bias': True, 'kernel_initializer': {'class_name': 'VarianceScaling', 'config': {'scale': 1.0, 'mode': 'fan_avg', 'distribution': 'uniform', 'seed': None}}, 'bias_initializer': {'class_name': 'Zeros', 'config': {}}, 'kernel_regularizer': None, 'bias_regularizer': None, 'activity_regularizer': None, 'kernel_constraint': None, 'bias_constraint': None}\n",
      "[array([[[[ 1.84455086e-02,  1.84613932e-02,  1.32790640e-01, ...,\n",
      "           4.03770842e-02,  8.54695067e-02,  5.50563261e-02],\n",
      "         [ 1.23695880e-01,  9.39036459e-02,  3.71548459e-02, ...,\n",
      "          -6.97313771e-02, -4.46785614e-02, -7.69430399e-02],\n",
      "         [ 7.02522770e-02,  3.97532508e-02,  1.86629161e-01, ...,\n",
      "          -1.74804889e-02,  8.35417882e-02,  1.39711916e-01],\n",
      "         ...,\n",
      "         [-1.01673827e-01, -2.39330292e-01, -8.67793933e-02, ...,\n",
      "          -1.63328759e-02, -2.63602763e-01,  1.21481568e-01],\n",
      "         [-7.36755431e-02,  1.29287809e-01,  9.04967785e-02, ...,\n",
      "           2.91465390e-02, -1.63709477e-01, -9.39076990e-02],\n",
      "         [ 7.51913339e-03,  4.55808565e-02,  1.81732476e-02, ...,\n",
      "           6.36922494e-02, -2.60307882e-02,  1.98679697e-02]],\n",
      "\n",
      "        [[ 8.20711628e-02,  2.61015184e-02,  1.31744653e-01, ...,\n",
      "           2.43777987e-02,  8.21941644e-02,  1.17090598e-01],\n",
      "         [ 9.49875340e-02,  4.42971550e-02,  4.46997099e-02, ...,\n",
      "          -3.07501503e-03,  7.28087872e-02,  3.11580598e-02],\n",
      "         [-1.27441704e-03, -6.00003265e-02,  2.61132289e-02, ...,\n",
      "           4.63429876e-02,  3.79447006e-02,  5.23485616e-02],\n",
      "         ...,\n",
      "         [-3.40810239e-01, -1.65908813e-01, -1.30142882e-01, ...,\n",
      "          -2.33034357e-01, -3.07742774e-01, -1.26079768e-01],\n",
      "         [-1.55167049e-02, -6.67937100e-02, -4.56497185e-02, ...,\n",
      "          -6.91948608e-02, -1.12132214e-01, -1.64506033e-01],\n",
      "         [ 7.33398274e-02,  7.44548663e-02,  9.23179314e-02, ...,\n",
      "          -5.66259287e-02,  6.20739767e-04,  5.23166498e-04]],\n",
      "\n",
      "        [[ 3.87247168e-02, -6.73681423e-02,  9.03171450e-02, ...,\n",
      "           2.53149550e-02, -1.10258743e-01, -6.02834374e-02],\n",
      "         [ 2.42485851e-01,  1.54146478e-02,  2.07342952e-02, ...,\n",
      "           6.99202996e-03, -5.53981625e-02,  1.78071093e-02],\n",
      "         [-1.36664836e-02,  2.99287550e-02,  4.12748456e-02, ...,\n",
      "          -5.78869544e-02, -3.73018570e-02, -3.83916348e-02],\n",
      "         ...,\n",
      "         [-1.54279500e-01, -7.06561878e-02, -2.09196359e-01, ...,\n",
      "          -2.67456681e-01, -1.66349411e-01, -1.52310342e-01],\n",
      "         [-3.71155003e-03,  3.31870578e-02,  1.91036034e-02, ...,\n",
      "          -2.87759043e-02, -2.18622573e-02, -4.39233109e-02],\n",
      "         [ 4.10769172e-02, -4.00950946e-02,  1.20496824e-01, ...,\n",
      "           2.72517912e-02,  1.43848937e-02,  2.25792229e-02]]],\n",
      "\n",
      "\n",
      "       [[[-9.57729518e-02, -1.21421681e-03,  2.23523919e-02, ...,\n",
      "          -3.78535651e-02,  3.47640701e-02,  6.06919676e-02],\n",
      "         [ 7.85253197e-02,  4.33944650e-02, -3.66366953e-02, ...,\n",
      "          -1.56285707e-02,  7.43755847e-02,  1.84239984e-01],\n",
      "         [-2.95492485e-02, -1.91783160e-02, -6.38484061e-02, ...,\n",
      "           4.39894721e-02, -2.01794319e-03,  8.44420940e-02],\n",
      "         ...,\n",
      "         [ 5.51127270e-02, -7.83518702e-02, -1.82048768e-01, ...,\n",
      "          -1.61846563e-01, -4.13117439e-01, -5.63532002e-02],\n",
      "         [ 2.94163357e-02,  9.04542431e-02,  5.30213006e-02, ...,\n",
      "           1.37254670e-01, -5.25834449e-02, -2.48570107e-02],\n",
      "         [ 6.86715394e-02,  1.01276174e-01,  3.11645884e-02, ...,\n",
      "           2.46967329e-03,  7.23255128e-02, -3.95120960e-03]],\n",
      "\n",
      "        [[ 5.12339058e-04,  5.48211858e-02,  5.50525635e-02, ...,\n",
      "          -5.86245283e-02,  4.04808410e-02, -8.39489922e-02],\n",
      "         [ 1.34638414e-01, -3.37114179e-04, -7.74059296e-02, ...,\n",
      "           4.19530757e-02,  1.27811581e-01,  1.35329202e-01],\n",
      "         [ 1.88241787e-02, -9.75912362e-02,  4.89364192e-02, ...,\n",
      "           8.30043759e-03,  4.60155718e-02, -2.34939437e-02],\n",
      "         ...,\n",
      "         [-7.27441013e-02, -9.61311162e-02, -2.59318650e-01, ...,\n",
      "          -1.95404559e-01, -2.28177443e-01, -2.74225533e-01],\n",
      "         [ 7.80506879e-02,  3.40010151e-02,  2.94907466e-02, ...,\n",
      "          -6.28298447e-02,  6.40864149e-02, -3.21690291e-02],\n",
      "         [-2.58109458e-02,  4.29854617e-02,  7.57781491e-02, ...,\n",
      "           8.83705691e-02,  9.07306653e-03, -2.37263180e-02]],\n",
      "\n",
      "        [[-4.49288152e-02,  6.20499738e-02, -4.70054373e-02, ...,\n",
      "           4.85328585e-02,  9.03843045e-02, -2.10708333e-03],\n",
      "         [ 1.98349226e-02, -4.03951779e-02,  6.27595410e-02, ...,\n",
      "          -1.86941616e-04, -2.79732496e-02, -2.95663401e-02],\n",
      "         [-2.22138632e-02,  7.85055384e-02, -3.67506035e-02, ...,\n",
      "           1.54845759e-01, -7.06385821e-02, -1.47616277e-02],\n",
      "         ...,\n",
      "         [ 7.20576942e-02, -2.33367741e-01, -3.29754800e-01, ...,\n",
      "          -1.58578932e-01, -1.50890812e-01, -2.72811323e-01],\n",
      "         [ 1.56329557e-01,  3.61167714e-02, -4.95635122e-02, ...,\n",
      "           9.47730499e-04, -4.43627350e-02,  1.04740597e-01],\n",
      "         [ 2.36773957e-02,  5.50728254e-02,  2.17831377e-02, ...,\n",
      "          -2.25768723e-02,  2.46893838e-02, -4.43733931e-02]]],\n",
      "\n",
      "\n",
      "       [[[-5.21818548e-02,  2.64439397e-02, -6.42614216e-02, ...,\n",
      "           6.33519664e-02,  4.46445383e-02, -1.51182622e-01],\n",
      "         [ 1.63593814e-02, -3.99327204e-02,  6.92676380e-02, ...,\n",
      "           3.56856957e-02, -7.24857897e-02,  1.78105101e-01],\n",
      "         [ 5.93467010e-03, -9.42634717e-02, -7.61569440e-02, ...,\n",
      "          -9.12098289e-02,  6.22988492e-02, -9.93150696e-02],\n",
      "         ...,\n",
      "         [ 1.58313885e-01,  7.77603090e-02, -1.53405219e-01, ...,\n",
      "          -9.67472494e-02, -9.77959260e-02,  3.79050635e-02],\n",
      "         [-2.50119790e-02,  5.09467088e-02, -1.54542729e-01, ...,\n",
      "          -5.08942343e-02,  1.85054451e-01, -1.23324364e-01],\n",
      "         [-1.19821755e-02, -1.27908234e-02, -4.05833274e-02, ...,\n",
      "           1.06611988e-02, -3.19512673e-02,  4.72833309e-03]],\n",
      "\n",
      "        [[-4.87969592e-02, -4.85221520e-02, -2.33930089e-02, ...,\n",
      "           2.02238280e-03,  1.40821338e-02, -1.33943260e-02],\n",
      "         [ 6.14106730e-02, -8.48988146e-02,  2.62768064e-02, ...,\n",
      "           5.64537011e-02,  4.28209677e-02,  1.30254403e-01],\n",
      "         [-9.02182758e-02, -6.14166670e-02, -7.71784261e-02, ...,\n",
      "          -6.57489290e-04,  2.37330515e-02, -9.82283354e-02],\n",
      "         ...,\n",
      "         [ 2.55707115e-01, -1.11259753e-03, -2.10153446e-01, ...,\n",
      "          -9.86058116e-02,  1.52851030e-01,  2.42014099e-02],\n",
      "         [-7.91531202e-05, -2.85075158e-02, -1.29932359e-01, ...,\n",
      "           2.68906504e-02,  3.45112681e-02, -1.30101815e-01],\n",
      "         [-2.06444152e-02, -5.23602478e-02,  4.79695573e-02, ...,\n",
      "           4.35728468e-02, -6.94432408e-02, -3.03746182e-02]],\n",
      "\n",
      "        [[-8.61594081e-02,  7.84209371e-02, -1.24199651e-01, ...,\n",
      "           8.40618759e-02, -8.62168223e-02,  3.62625532e-02],\n",
      "         [-1.02704711e-01, -4.78430167e-02,  8.29209089e-02, ...,\n",
      "           4.32900004e-02,  5.82440719e-02,  5.12038618e-02],\n",
      "         [-5.53038679e-02, -6.67630509e-02, -2.28056423e-02, ...,\n",
      "           4.92406972e-02,  4.34692763e-03, -1.07712179e-01],\n",
      "         ...,\n",
      "         [ 2.44139627e-01, -9.09221619e-02, -3.02234799e-01, ...,\n",
      "          -5.75763620e-02,  8.77343640e-02,  1.78196989e-02],\n",
      "         [-2.30288096e-02,  6.25978559e-02,  4.46811095e-02, ...,\n",
      "          -2.35257037e-02, -6.23556152e-02,  7.76457042e-02],\n",
      "         [-1.24694332e-01,  4.50130319e-03, -5.15147373e-02, ...,\n",
      "          -1.32256029e-02, -5.77421002e-02,  4.48033437e-02]]]],\n",
      "      dtype=float32), array([ 0.01405431, -0.02635344,  0.04503589,  0.09110735,  0.03680942,\n",
      "        0.02445634, -0.06594287, -0.06034487, -0.08121839,  0.04160241,\n",
      "       -0.02010248, -0.13576593,  0.00164783, -0.09626118,  0.13394639,\n",
      "       -0.00063866,  0.02710669, -0.00712575, -0.00872776,  0.10521064,\n",
      "        0.06807099,  0.16523166, -0.08996035, -0.02199236,  0.03900305,\n",
      "       -0.10164344,  0.02024188, -0.00864046, -0.05571946,  0.01311455,\n",
      "       -0.04944494,  0.14510727,  0.10290021, -0.01903366,  0.02326978,\n",
      "        0.04557884, -0.08232707,  0.11478462,  0.04614659, -0.01109893,\n",
      "        0.06896131, -0.08938503,  0.03423205,  0.01437128,  0.02471952,\n",
      "        0.05181193,  0.01884693, -0.07655934, -0.01100062, -0.01526428,\n",
      "       -0.10166976,  0.00989838,  0.0452773 , -0.09601016, -0.01860746,\n",
      "        0.05034585,  0.01924977,  0.04846729, -0.02058349, -0.08698541,\n",
      "        0.15282245,  0.00099758, -0.03571704,  0.0044446 ], dtype=float32)]\n",
      "{'name': 'max_pooling2d_2', 'trainable': True, 'pool_size': (2, 2), 'padding': 'valid', 'strides': (2, 2), 'data_format': 'channels_last'}\n",
      "[]\n",
      "{'name': 'dropout_2', 'trainable': True, 'rate': 0.4, 'noise_shape': None, 'seed': None}\n",
      "[]\n",
      "{'name': 'conv2d_3', 'trainable': True, 'filters': 128, 'kernel_size': (2, 2), 'strides': (1, 1), 'padding': 'valid', 'data_format': 'channels_last', 'dilation_rate': (1, 1), 'activation': 'relu', 'use_bias': True, 'kernel_initializer': {'class_name': 'VarianceScaling', 'config': {'scale': 1.0, 'mode': 'fan_avg', 'distribution': 'uniform', 'seed': None}}, 'bias_initializer': {'class_name': 'Zeros', 'config': {}}, 'kernel_regularizer': None, 'bias_regularizer': None, 'activity_regularizer': None, 'kernel_constraint': None, 'bias_constraint': None}\n",
      "[array([[[[ 9.97817516e-02,  8.43564421e-02, -7.48302490e-02, ...,\n",
      "          -1.99755896e-02, -1.80475209e-02, -4.41208773e-04],\n",
      "         [ 4.48793359e-02,  9.15398672e-02, -1.31053165e-01, ...,\n",
      "          -7.99434632e-02, -1.56123340e-02,  1.21880723e-02],\n",
      "         [-2.42077671e-02,  4.88099083e-02, -3.68072800e-02, ...,\n",
      "           3.68098728e-02,  1.03667807e-02,  1.05550829e-02],\n",
      "         ...,\n",
      "         [ 2.88453270e-02, -6.87640440e-03, -1.30879611e-01, ...,\n",
      "           2.33724061e-02,  5.32283112e-02,  2.01517884e-02],\n",
      "         [-5.38058765e-02,  8.95288885e-02, -2.94164628e-01, ...,\n",
      "          -5.55589097e-03, -1.62075162e-02, -4.66577224e-02],\n",
      "         [ 8.04345403e-03,  7.89256096e-02, -1.78919733e-01, ...,\n",
      "          -1.98588278e-02,  4.07662839e-02,  1.10544637e-02]],\n",
      "\n",
      "        [[ 2.23243590e-02,  7.72578344e-02, -1.44710585e-01, ...,\n",
      "          -5.82084171e-02, -1.06722966e-01, -9.00325105e-02],\n",
      "         [-2.88108252e-02, -7.85330981e-02,  5.88141307e-02, ...,\n",
      "          -1.13104127e-01, -2.68960558e-02,  4.96559255e-02],\n",
      "         [ 1.89589299e-02,  4.64421324e-02,  2.74900496e-02, ...,\n",
      "           7.18042850e-02,  1.43788448e-02, -7.76879787e-02],\n",
      "         ...,\n",
      "         [-8.27677250e-02, -5.95218278e-02,  1.15092650e-01, ...,\n",
      "          -3.68791223e-02, -9.59125087e-02, -8.66189003e-02],\n",
      "         [ 3.79393399e-02,  5.27099296e-02, -5.47082014e-02, ...,\n",
      "           4.59018834e-02, -2.30338231e-01,  5.58349723e-03],\n",
      "         [-1.43692372e-02, -1.01420537e-01,  2.04301059e-01, ...,\n",
      "          -3.92092727e-02, -7.62993768e-02, -8.76686350e-02]]],\n",
      "\n",
      "\n",
      "       [[[ 4.79661636e-02,  2.19437424e-02, -6.44305870e-02, ...,\n",
      "          -6.21246770e-02,  5.34195043e-02,  1.22592133e-02],\n",
      "         [ 3.95592581e-03, -5.25852367e-02, -6.20945133e-02, ...,\n",
      "          -3.99581641e-02, -1.53074637e-01,  2.56052054e-02],\n",
      "         [ 3.18387300e-02, -7.20283613e-02, -1.31236287e-02, ...,\n",
      "          -9.71514881e-02,  1.61830083e-01, -3.58228805e-03],\n",
      "         ...,\n",
      "         [ 6.95383549e-02, -1.25920996e-02, -3.45137686e-01, ...,\n",
      "          -2.70031132e-02, -1.19308837e-01, -2.04617297e-03],\n",
      "         [-4.17779088e-02, -9.73788202e-02, -3.20500821e-01, ...,\n",
      "           1.05741516e-01, -1.48506299e-01, -2.34808493e-02],\n",
      "         [-8.90672803e-02, -2.88788471e-02, -1.13444459e-02, ...,\n",
      "          -4.47494537e-03,  9.16559808e-03,  2.52930094e-02]],\n",
      "\n",
      "        [[ 1.43294707e-01,  8.42839256e-02,  1.07061714e-01, ...,\n",
      "          -2.12725680e-02, -1.85610652e-01, -1.12689860e-01],\n",
      "         [-6.03878051e-02,  1.68445203e-02, -7.87926987e-02, ...,\n",
      "           1.18212692e-01, -1.85208857e-01,  5.78081841e-03],\n",
      "         [ 6.55809715e-02, -4.74442728e-02, -1.22579222e-03, ...,\n",
      "           1.07121104e-02,  1.10887505e-01, -4.64677215e-02],\n",
      "         ...,\n",
      "         [-1.06766619e-01,  1.90354995e-02, -2.03572772e-03, ...,\n",
      "           4.35354188e-02, -1.91368416e-01, -8.03274810e-02],\n",
      "         [-4.37421165e-02, -2.27754330e-03, -8.78268704e-02, ...,\n",
      "          -2.60687884e-05, -6.94737136e-02,  9.61610749e-02],\n",
      "         [ 1.74886957e-02,  6.03788416e-04,  3.76550667e-02, ...,\n",
      "           6.48335740e-02,  1.50619939e-01, -3.71939279e-02]]]],\n",
      "      dtype=float32), array([ 1.21619582e-01,  1.36745032e-02,  1.32998869e-01, -2.87149679e-02,\n",
      "        3.49493176e-02, -1.05800115e-01,  2.06215516e-01,  1.05891064e-01,\n",
      "       -8.22129250e-02, -1.57906152e-02,  1.12779893e-01,  9.21852812e-02,\n",
      "       -9.50570451e-04,  6.91485181e-02,  4.10836674e-02,  1.49407431e-01,\n",
      "       -1.27351344e-01, -1.68645941e-02, -1.94957538e-04,  1.47131741e-01,\n",
      "       -1.83665392e-03,  1.37134060e-01, -2.86703613e-02,  8.55228379e-02,\n",
      "        1.93961114e-01, -2.53405590e-02, -7.86885247e-03,  8.92521590e-02,\n",
      "       -2.92346235e-02,  1.00307196e-01,  3.84276919e-02,  4.72147353e-02,\n",
      "        3.78198661e-02,  9.92848426e-02,  2.57479250e-02,  1.29185975e-01,\n",
      "        7.70225152e-02,  2.11400822e-01,  4.85626608e-02,  1.22988172e-01,\n",
      "        7.83299133e-02, -5.85945882e-03,  3.82991768e-02, -1.27805928e-02,\n",
      "        3.21970843e-02, -1.91949047e-02, -3.85821424e-02,  8.64566863e-03,\n",
      "        1.22538194e-01,  1.23924464e-01,  5.44123761e-02,  9.72187221e-02,\n",
      "        7.35187978e-02,  6.07890263e-02, -7.27717504e-02,  1.01892129e-01,\n",
      "        1.11233868e-01,  1.72994623e-04, -1.39210969e-02,  5.25598340e-02,\n",
      "       -1.10474657e-02, -5.94969690e-02,  7.48727024e-02,  9.83940512e-02,\n",
      "        3.25666219e-02,  1.53658658e-01,  1.97299883e-01,  1.42575735e-02,\n",
      "        1.39336422e-01,  3.98804359e-02, -6.48495182e-02,  1.86797767e-03,\n",
      "        3.76533419e-02,  1.70280173e-01,  1.89902768e-01, -2.79086195e-02,\n",
      "       -1.39241949e-01,  1.79855570e-01,  1.79370791e-01,  1.29304558e-01,\n",
      "        1.40797466e-01,  1.10773608e-01,  3.60234417e-02,  7.56384060e-02,\n",
      "        7.54847452e-02,  3.21388175e-03,  1.95526272e-01,  1.06752142e-02,\n",
      "        2.04565097e-02,  9.40930471e-02,  9.92304906e-02,  5.94802275e-02,\n",
      "       -3.60824652e-02, -6.89777806e-02,  9.71851647e-02,  3.74943130e-02,\n",
      "       -7.87550285e-02,  4.78588790e-02,  1.60814866e-01,  8.61081555e-02,\n",
      "        1.85451373e-01,  6.31019548e-02,  8.53084959e-04,  7.50158951e-02,\n",
      "        1.28167495e-01, -4.97758277e-02,  1.21295929e-01,  3.62915285e-02,\n",
      "       -9.89610329e-02, -7.25140572e-02,  1.64322495e-01, -1.38159301e-02,\n",
      "       -2.03986228e-01, -3.02208811e-02,  2.08699599e-01,  5.06127104e-02,\n",
      "       -6.99644387e-02, -9.93539300e-03,  7.13012293e-02, -9.10485610e-02,\n",
      "        1.71066955e-01, -8.47661048e-02,  1.23398609e-01,  2.50477046e-02,\n",
      "        1.73607245e-01,  8.01186357e-03,  1.49116501e-01,  6.68316036e-02],\n",
      "      dtype=float32)]\n",
      "{'name': 'conv2d_4', 'trainable': True, 'filters': 128, 'kernel_size': (2, 2), 'strides': (1, 1), 'padding': 'valid', 'data_format': 'channels_last', 'dilation_rate': (1, 1), 'activation': 'relu', 'use_bias': True, 'kernel_initializer': {'class_name': 'VarianceScaling', 'config': {'scale': 1.0, 'mode': 'fan_avg', 'distribution': 'uniform', 'seed': None}}, 'bias_initializer': {'class_name': 'Zeros', 'config': {}}, 'kernel_regularizer': None, 'bias_regularizer': None, 'activity_regularizer': None, 'kernel_constraint': None, 'bias_constraint': None}\n",
      "[array([[[[-6.02741167e-02,  4.43559699e-02,  2.33183447e-02, ...,\n",
      "          -1.18312910e-01,  9.07900780e-02, -2.25584134e-02],\n",
      "         [-2.19733231e-02, -6.26937002e-02, -2.59783193e-02, ...,\n",
      "          -3.33714075e-02,  9.50162709e-02,  4.61176317e-03],\n",
      "         [-7.24101290e-02,  2.58969553e-02, -1.67538270e-01, ...,\n",
      "          -3.96527722e-02,  7.04090670e-02, -5.98040894e-02],\n",
      "         ...,\n",
      "         [-1.06469683e-01,  4.32992801e-02,  4.62939218e-02, ...,\n",
      "          -1.33714173e-02, -2.04259939e-02,  2.17244923e-02],\n",
      "         [-6.72406852e-02, -9.57291806e-04,  3.57434601e-02, ...,\n",
      "           8.73658955e-02, -4.50258441e-02,  1.91925745e-02],\n",
      "         [-6.33093864e-02,  4.71680388e-02,  4.35798662e-03, ...,\n",
      "           1.08197816e-01,  6.67980015e-02,  2.89916229e-02]],\n",
      "\n",
      "        [[ 3.73664163e-02, -1.50067825e-02,  1.10178687e-01, ...,\n",
      "           7.23153725e-02,  2.85391184e-03, -8.01113918e-02],\n",
      "         [ 2.99237259e-02,  3.70385125e-02,  4.52626646e-02, ...,\n",
      "          -3.55440676e-02, -2.40631513e-02,  3.84337865e-02],\n",
      "         [ 1.88955646e-02,  1.48814186e-01,  2.81284153e-02, ...,\n",
      "           6.76075742e-02, -1.05746455e-01, -1.04941003e-01],\n",
      "         ...,\n",
      "         [-3.91116589e-02,  3.62341926e-02, -9.73305553e-02, ...,\n",
      "           5.17227575e-02, -7.75109380e-02, -5.84267974e-02],\n",
      "         [-6.85077533e-02, -4.39009406e-02,  1.51134685e-01, ...,\n",
      "          -1.50633827e-01, -2.38279581e-01, -1.50088221e-02],\n",
      "         [-6.93050623e-02,  8.37420002e-02, -5.73228151e-02, ...,\n",
      "           6.58139959e-02, -8.78174081e-02, -1.28817670e-02]]],\n",
      "\n",
      "\n",
      "       [[[-3.56597714e-02,  6.15478866e-02, -5.23922965e-02, ...,\n",
      "          -5.94728477e-02,  1.22628897e-01,  3.61001641e-02],\n",
      "         [-4.55936976e-02, -1.16500240e-02, -1.62865967e-02, ...,\n",
      "          -2.62894295e-02,  7.71424472e-02, -4.80053481e-03],\n",
      "         [-1.48451641e-01,  1.79299172e-02, -2.78885923e-02, ...,\n",
      "          -1.94548264e-01, -1.21414207e-01,  7.74040297e-02],\n",
      "         ...,\n",
      "         [-2.35365927e-02, -5.39928451e-02, -7.22337291e-02, ...,\n",
      "          -8.29408839e-02, -2.35673767e-02,  8.28422531e-02],\n",
      "         [ 4.07872871e-02,  7.42198899e-02,  1.63434863e-01, ...,\n",
      "           8.61878600e-03, -1.00767009e-01, -3.43933664e-02],\n",
      "         [-3.66378081e-05,  7.26432912e-03, -9.57536604e-03, ...,\n",
      "           8.92708674e-02,  5.98528944e-02, -4.62345220e-02]],\n",
      "\n",
      "        [[-7.10038617e-02,  1.02901608e-01, -8.71341079e-02, ...,\n",
      "          -7.80570954e-02,  1.01774089e-01,  9.93922725e-02],\n",
      "         [-1.17448913e-02,  4.89771143e-02, -1.68155553e-03, ...,\n",
      "           9.48468521e-02, -3.41158658e-02,  1.90042295e-02],\n",
      "         [ 1.66138351e-01,  6.03480116e-02,  7.14497194e-02, ...,\n",
      "           1.05641909e-01,  7.54921734e-02, -3.21803875e-02],\n",
      "         ...,\n",
      "         [ 7.30438977e-02, -9.77515578e-02, -6.62709028e-02, ...,\n",
      "           5.44113927e-02, -8.40222463e-03, -4.27003317e-02],\n",
      "         [-2.91139539e-02, -1.08764268e-01,  3.23658474e-02, ...,\n",
      "          -1.57884791e-01, -1.24031067e-01,  1.08776204e-01],\n",
      "         [-5.82164563e-02,  1.31230345e-02, -2.98988353e-03, ...,\n",
      "           4.46099900e-02, -3.79448198e-02,  7.43408408e-03]]]],\n",
      "      dtype=float32), array([ 0.02122521,  0.07666864,  0.14293312,  0.09394898,  0.04406552,\n",
      "       -0.00704666,  0.12082429,  0.09826173,  0.08482864,  0.04696704,\n",
      "        0.07540139,  0.06052846, -0.01087141,  0.05540547,  0.07041564,\n",
      "        0.06604455,  0.09312034,  0.07502527, -0.023871  , -0.00388685,\n",
      "        0.04421177, -0.02102537, -0.04329706, -0.04444471,  0.03320688,\n",
      "       -0.01645822,  0.03256182,  0.02189269,  0.06030089,  0.07926462,\n",
      "        0.06114682, -0.02713359,  0.10678636,  0.06772652,  0.05867914,\n",
      "        0.03973614, -0.02610466,  0.06128543, -0.01730393,  0.0607681 ,\n",
      "        0.06443194,  0.11919419,  0.07399229, -0.02564468, -0.0099488 ,\n",
      "        0.01850363,  0.12450887, -0.01296139, -0.03028186,  0.02523186,\n",
      "        0.12389594,  0.04229843, -0.01808337,  0.05125742,  0.03790874,\n",
      "        0.04031358,  0.06157001, -0.03316663, -0.01013515,  0.07069967,\n",
      "        0.07089952,  0.03148624,  0.04543751, -0.00122066,  0.07063942,\n",
      "        0.09338386,  0.04938123,  0.11007163,  0.07607331,  0.03529353,\n",
      "       -0.01246964,  0.0555185 , -0.02212975,  0.09361725, -0.00923865,\n",
      "        0.09875513, -0.03240355, -0.00834569,  0.03553258, -0.00618365,\n",
      "        0.06543999,  0.05361675,  0.04184327,  0.06286208,  0.04110295,\n",
      "        0.11200774,  0.04587488, -0.03209134,  0.05789854, -0.01831392,\n",
      "        0.08977106,  0.07998114,  0.01510676,  0.05571238,  0.06851367,\n",
      "        0.12281323,  0.00909594,  0.05870618,  0.06741535,  0.03389902,\n",
      "        0.03259695, -0.00138872,  0.07533287, -0.00261428,  0.11253899,\n",
      "        0.08917785, -0.0102278 ,  0.11335719,  0.0336898 ,  0.09056731,\n",
      "        0.10193368,  0.10214072,  0.06802568,  0.08716702,  0.03231914,\n",
      "        0.05086565,  0.08520164, -0.01209927,  0.02020466,  0.09839346,\n",
      "        0.08265384, -0.01031108,  0.09256844,  0.07445905,  0.03241191,\n",
      "        0.06281362,  0.02763819, -0.04266932], dtype=float32)]\n",
      "{'name': 'flatten_1', 'trainable': True, 'data_format': 'channels_last'}\n",
      "[]\n",
      "{'name': 'dropout_3', 'trainable': True, 'rate': 0.4, 'noise_shape': None, 'seed': None}\n",
      "[]\n",
      "{'name': 'dense_1', 'trainable': True, 'units': 10, 'activation': 'softmax', 'use_bias': True, 'kernel_initializer': {'class_name': 'VarianceScaling', 'config': {'scale': 1.0, 'mode': 'fan_avg', 'distribution': 'uniform', 'seed': None}}, 'bias_initializer': {'class_name': 'Zeros', 'config': {}}, 'kernel_regularizer': None, 'bias_regularizer': None, 'activity_regularizer': None, 'kernel_constraint': None, 'bias_constraint': None}\n",
      "[array([[-0.11367939, -0.00769204,  0.02541787, ..., -0.12451622,\n",
      "        -0.02786338, -0.09321132],\n",
      "       [-0.07765274,  0.03106795,  0.0580297 , ...,  0.05227378,\n",
      "        -0.05484881,  0.05671186],\n",
      "       [ 0.12561876, -0.0381848 ,  0.13031399, ..., -0.05380878,\n",
      "        -0.1673477 , -0.05063534],\n",
      "       ...,\n",
      "       [-0.01294645,  0.01212585,  0.01331099, ..., -0.15197255,\n",
      "        -0.07576618,  0.01753879],\n",
      "       [ 0.03513595,  0.01847515, -0.13998935, ..., -0.00595365,\n",
      "         0.0627543 , -0.10971761],\n",
      "       [ 0.00462642,  0.08186239,  0.00054885, ..., -0.06480245,\n",
      "        -0.04501927,  0.06654804]], dtype=float32), array([ 0.02520321, -0.08698697,  0.01254571,  0.01266134, -0.06014718,\n",
      "       -0.03146526,  0.06779089,  0.06504885, -0.00128978, -0.03596229],\n",
      "      dtype=float32)]\n"
     ]
    }
   ],
   "source": [
    "for layer in cnn_clothes.layers:\n",
    "    g=layer.get_config()\n",
    "    h=layer.get_weights()\n",
    "    print (g)\n",
    "    print (h)"
   ]
  },
  {
   "cell_type": "code",
   "execution_count": null,
   "metadata": {},
   "outputs": [],
   "source": [
    "# Import the plotting function\n",
    "from keras.utils import plot_model\n",
    "import matplotlib.pyplot as plt\n",
    "\n",
    "# Summarize the model\n",
    "model.summary()\n",
    "\n",
    "# Plot the model\n",
    "plot_model(model, to_file='model.png')\n",
    "\n",
    "# Display the image\n",
    "data = plt.imread('model.png')\n",
    "plt.imshow(data)\n",
    "plt.show()"
   ]
  }
 ],
 "metadata": {
  "kernelspec": {
   "display_name": "Python 3",
   "language": "python",
   "name": "python3"
  },
  "language_info": {
   "codemirror_mode": {
    "name": "ipython",
    "version": 3
   },
   "file_extension": ".py",
   "mimetype": "text/x-python",
   "name": "python",
   "nbconvert_exporter": "python",
   "pygments_lexer": "ipython3",
   "version": "3.6.5"
  }
 },
 "nbformat": 4,
 "nbformat_minor": 2
}
